{
 "cells": [
  {
   "cell_type": "code",
   "execution_count": 1,
   "metadata": {},
   "outputs": [
    {
     "name": "stdout",
     "output_type": "stream",
     "text": [
      "Mean Accuracy: 0.9666666666666668\n"
     ]
    }
   ],
   "source": [
    "import numpy as np\n",
    "from sklearn.model_selection import KFold\n",
    "from sklearn.svm import SVC\n",
    "from sklearn.datasets import load_iris\n",
    "\n",
    "# Load dataset (example: Iris dataset)\n",
    "data = load_iris()\n",
    "X = data.data\n",
    "y = data.target\n",
    "\n",
    "# Initialize SVM classifier\n",
    "svm = SVC()\n",
    "\n",
    "# Define number of folds for cross-validation\n",
    "k = 5\n",
    "\n",
    "# Initialize k-fold cross-validation\n",
    "kf = KFold(n_splits=k, shuffle=True, random_state=42)\n",
    "\n",
    "# Initialize variables to store accuracy scores\n",
    "accuracy_scores = []\n",
    "\n",
    "# Perform k-fold cross-validation\n",
    "for train_index, test_index in kf.split(X):\n",
    "    X_train, X_test = X[train_index], X[test_index]\n",
    "    y_train, y_test = y[train_index], y[test_index]\n",
    "    \n",
    "    # Train SVM classifier on training data\n",
    "    svm.fit(X_train, y_train)\n",
    "    \n",
    "    # Evaluate classifier on test data\n",
    "    accuracy = svm.score(X_test, y_test)\n",
    "    accuracy_scores.append(accuracy)\n",
    "\n",
    "# Calculate and print mean accuracy score\n",
    "mean_accuracy = np.mean(accuracy_scores)\n",
    "print(\"Mean Accuracy:\", mean_accuracy)"
   ]
  }
 ],
 "metadata": {
  "kernelspec": {
   "display_name": "base",
   "language": "python",
   "name": "python3"
  },
  "language_info": {
   "codemirror_mode": {
    "name": "ipython",
    "version": 3
   },
   "file_extension": ".py",
   "mimetype": "text/x-python",
   "name": "python",
   "nbconvert_exporter": "python",
   "pygments_lexer": "ipython3",
   "version": "3.11.5"
  }
 },
 "nbformat": 4,
 "nbformat_minor": 2
}
